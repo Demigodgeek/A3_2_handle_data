{
 "cells": [
  {
   "cell_type": "code",
   "execution_count": null,
   "metadata": {},
   "outputs": [],
   "source": [
    "# Import the Pandas library\n",
    "import pandas as pd\n",
    "# Import the Path module from the pathlib library\n",
    "from pathlib import Path\n",
    "\n",
    "import warnings\n",
    "warnings.filterwarnings(\"ignore\")"
   ]
  },
  {
   "cell_type": "code",
   "execution_count": null,
   "metadata": {},
   "outputs": [],
   "source": [
    "money_flows_df = pd.read_csv(\n",
    "    Path(\"../Resources/big_time_money_flows.csv\"), \n",
    "    index_col=\"Date\", \n",
    "    parse_dates=True, \n",
    "    infer_datetime_format=True\n",
    ")"
   ]
  },
  {
   "cell_type": "code",
   "execution_count": null,
   "metadata": {},
   "outputs": [],
   "source": [
    "# Call the head function to review the first 5 rows of the DataFrame\n",
    "money_flows_df.head()"
   ]
  },
  {
   "cell_type": "code",
   "execution_count": null,
   "metadata": {},
   "outputs": [],
   "source": [
    "# Use the dtypes function to check the data type of each column in the DataFrame\n",
    "money_flows_df.dtypes"
   ]
  },
  {
   "cell_type": "code",
   "execution_count": null,
   "metadata": {},
   "outputs": [],
   "source": [
    "# For all the rows in the \"Total Payments\", use the str.replace function \n",
    "# to replace the \"$\" with empty strings (\"\")\n",
    "money_flows_df.loc[:, \"Total Payments\"] = money_flows_df.loc[:, \"Total Payments\"].str.replace(\"$\", \"\")\n",
    "\n",
    "# Call the head function to review the first 5 rows of the DataFrame\n",
    "money_flows_df.head()"
   ]
  },
  {
   "cell_type": "code",
   "execution_count": null,
   "metadata": {},
   "outputs": [],
   "source": [
    "# For all the rows in \"Total Payments\", use the astype function \n",
    "# to change the data type from Object (string) to float\n",
    "money_flows_df.loc[:, \"Total Payments\"] = money_flows_df.loc[:, \"Total Payments\"].astype(\"float\")\n",
    "\n",
    "# Call the dtypes function on the `money_flows_df` DataFrame to confirm the update\n",
    "money_flows_df.dtypes"
   ]
  },
  {
   "cell_type": "code",
   "execution_count": null,
   "metadata": {},
   "outputs": [],
   "source": [
    "# For all rows in the \"Profit Margin\", use the str.replace function \n",
    "# to replace the \"%\" with empty strings (\"\")\n",
    "money_flows_df.loc[:, \"Profit Margin\"] = money_flows_df.loc[:, \"Profit Margin\"].str.replace(\"%\", \"\")\n",
    "\n",
    "# For all rows in \"Profit Margin\", use the Pandas astype function \n",
    "# to change the data type from Object (string) to float\n",
    "money_flows_df.loc[:, \"Profit Margin\"] = money_flows_df.loc[:, \"Profit Margin\"].astype(\"float\")\n",
    "\n",
    "# Call the dtypes function on the `money_flows_df` DataFrame to confirm the update\n",
    "money_flows_df.dtypes"
   ]
  },
  {
   "cell_type": "code",
   "execution_count": null,
   "metadata": {},
   "outputs": [],
   "source": [
    "# Use the isnull function in conjunction with the sum function to determine \n",
    "# the total number of missing values in the DataFrame\n",
    "money_flows_df.isnull().sum()"
   ]
  },
  {
   "cell_type": "code",
   "execution_count": null,
   "metadata": {},
   "outputs": [],
   "source": [
    "# calculate the mean to determine the percentage of missing values in each column.\n",
    "money_flows_df.isnull().mean()"
   ]
  },
  {
   "cell_type": "code",
   "execution_count": null,
   "metadata": {},
   "outputs": [],
   "source": [
    "# The Total Payments column has 2.9% of its data missing"
   ]
  },
  {
   "cell_type": "code",
   "execution_count": null,
   "metadata": {},
   "outputs": [],
   "source": [
    "# Using the fillna function, replace all of the missing values \n",
    "# in the \"Profit Margin\" column with a 0\n",
    "money_flows_df.loc[:, \"Profit Margin\"] = money_flows_df.loc[:, \"Profit Margin\"].fillna(0)\n",
    "\n",
    "# Rerun the isnull function in conjunction with the sum function to confirm there are no missing values\n",
    "money_flows_df.isnull().sum()"
   ]
  },
  {
   "cell_type": "raw",
   "metadata": {},
   "source": [
    "NOTE:\n",
    "# Use the dropna function to eliminate the rows with missing values \n",
    "money_flows_df = money_flows_df.dropna()\n",
    "\n",
    "# Replace the NaNs with \"Unknown\"\n",
    "money_flows_df = money_flows_df.fillna(\"Unknown\")\n",
    "\n",
    "# Replace the NaNs with 0\n",
    "money_flows_df = money_flows_df.fillna(0)\n",
    "\n",
    "# Replace the NaNs with the mean of the column\n",
    "money_flows_df = money_flows_df.fillna(money_flows_df.mean())\n",
    "\n",
    "# replace each NaN value in the AAPL column with 0\n",
    "money_flows_df.loc[:, \"Total Payments\"] = money_flows_df.loc[:, \"Total Payments\"].fillna(0)"
   ]
  },
  {
   "cell_type": "code",
   "execution_count": null,
   "metadata": {},
   "outputs": [],
   "source": [
    "# Use the duplicated function in conjunction with the sum function, \n",
    "# to confirm the number of dupliate values in the DataFrame\n",
    "money_flows_df.duplicated().sum()"
   ]
  },
  {
   "cell_type": "code",
   "execution_count": null,
   "metadata": {},
   "outputs": [],
   "source": [
    "# Using the drop_duplicates function, remove all the duplicate rows of data \n",
    "# from the DataFrame\n",
    "money_flows_df = money_flows_df.drop_duplicates()\n",
    "\n",
    "# to confirm the number of dupliate values in the DataFrame\n",
    "money_flows_df.duplicated().sum()"
   ]
  }
 ],
 "metadata": {
  "kernelspec": {
   "display_name": "Python 3 (ipykernel)",
   "language": "python",
   "name": "python3"
  },
  "language_info": {
   "codemirror_mode": {
    "name": "ipython",
    "version": 3
   },
   "file_extension": ".py",
   "mimetype": "text/x-python",
   "name": "python",
   "nbconvert_exporter": "python",
   "pygments_lexer": "ipython3",
   "version": "3.9.16"
  }
 },
 "nbformat": 4,
 "nbformat_minor": 4
}
